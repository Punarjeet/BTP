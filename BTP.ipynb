{
 "cells": [
  {
   "cell_type": "code",
   "execution_count": 1,
   "metadata": {},
   "outputs": [],
   "source": [
    "import os\n",
    "import random\n",
    "import torch\n",
    "import torch.nn as nn\n",
    "import torch.nn.parallel\n",
    "import torch.backends.cudnn as cudnn\n",
    "import torch.optim as optim\n",
    "import torch.utils.data\n",
    "import torchvision.datasets as dset\n",
    "import torchvision.transforms as transforms\n",
    "import torchvision.utils as vutils\n",
    "import numpy as np\n",
    "import matplotlib.pyplot as plt\n",
    "import torch.nn.functional as F\n",
    "import cv2"
   ]
  },
  {
   "cell_type": "markdown",
   "metadata": {},
   "source": [
    "# Model"
   ]
  },
  {
   "cell_type": "code",
   "execution_count": 2,
   "metadata": {},
   "outputs": [],
   "source": [
    "class linear(nn.Module):\n",
    "    def __init__(self, in_f, out_f):\n",
    "        super(linear,self).__init__()\n",
    "        self.l = nn.Linear(in_features=in_f, out_features=out_f)\n",
    "        self.b = nn.BatchNorm1d(out_f)\n",
    "        \n",
    "    def forward(self, t):\n",
    "        t = self.l(t)\n",
    "        t= self.b(t)\n",
    "        t = F.relu(t)\n",
    "        return t"
   ]
  },
  {
   "cell_type": "code",
   "execution_count": 3,
   "metadata": {},
   "outputs": [
    {
     "name": "stdout",
     "output_type": "stream",
     "text": [
      "linear(\n",
      "  (l): Linear(in_features=1, out_features=2, bias=True)\n",
      "  (b): BatchNorm1d(2, eps=1e-05, momentum=0.1, affine=True, track_running_stats=True)\n",
      ")\n"
     ]
    }
   ],
   "source": [
    "l = linear(1,2)\n",
    "print(l)"
   ]
  },
  {
   "cell_type": "code",
   "execution_count": 4,
   "metadata": {},
   "outputs": [],
   "source": [
    "def flatten(t):\n",
    "    t = t.reshape(1,-1)\n",
    "    t = t.squeeze()\n",
    "    return t"
   ]
  },
  {
   "cell_type": "code",
   "execution_count": 5,
   "metadata": {},
   "outputs": [],
   "source": [
    "# landmark\n",
    "\n",
    "class Gen_landmark(nn.Module):\n",
    "    def __init__(self):\n",
    "        super(Gen_landmark,self).__init__()\n",
    "        self.l1 = nn.Linear(in_features=132, out_features=128)\n",
    "        self.l2 = nn.Linear(in_features=128, out_features=64)\n",
    "        self.l3 = nn.Linear(in_features=64, out_features=32)\n",
    "        self.l4 = nn.Linear(in_features=32, out_features=64)\n",
    "        self.l5 = nn.Linear(in_features=64, out_features=128)\n",
    "        self.l6 = nn.Linear(in_features=128, out_features=132)\n",
    "        self.b = nn.BatchNorm1d(132)\n",
    "    \n",
    "    def forward(t):\n",
    "        t = self.l1(t)\n",
    "        t = self.l2(t)\n",
    "        t = self.l3(t)\n",
    "        ll = t\n",
    "        t = self.l4(t)\n",
    "        t = self.l5(t)\n",
    "        t = self.l6(t)\n",
    "        t = F.relu(self.b(t))\n",
    "        return t, ll"
   ]
  },
  {
   "cell_type": "code",
   "execution_count": 6,
   "metadata": {},
   "outputs": [
    {
     "data": {
      "text/plain": [
       "Gen_landmark(\n",
       "  (l1): Linear(in_features=132, out_features=128, bias=True)\n",
       "  (l2): Linear(in_features=128, out_features=64, bias=True)\n",
       "  (l3): Linear(in_features=64, out_features=32, bias=True)\n",
       "  (l4): Linear(in_features=32, out_features=64, bias=True)\n",
       "  (l5): Linear(in_features=64, out_features=128, bias=True)\n",
       "  (l6): Linear(in_features=128, out_features=132, bias=True)\n",
       "  (b): BatchNorm1d(132, eps=1e-05, momentum=0.1, affine=True, track_running_stats=True)\n",
       ")"
      ]
     },
     "execution_count": 6,
     "metadata": {},
     "output_type": "execute_result"
    }
   ],
   "source": [
    "ld = Gen_landmark()\n",
    "ld"
   ]
  },
  {
   "cell_type": "code",
   "execution_count": 7,
   "metadata": {},
   "outputs": [],
   "source": [
    "class conv_block(nn.Module):\n",
    "    def __init__(self, in_f, out_f, s):\n",
    "        super(conv_block, self).__init__()\n",
    "        self.in_f, self.out_f, self.st = in_f,out_f, s\n",
    "        self.conv = nn.Conv2d(in_channels=self.in_f, out_channels=self.out_f, kernel_size=5, stride = self.st, padding=2)\n",
    "        self.batchNorm = nn.BatchNorm2d(self.out_f)\n",
    "    \n",
    "    def forward(self,t):\n",
    "        t = self.conv(t)\n",
    "        t = self.batchNorm(t)\n",
    "        t = F.relu(t)\n",
    "        return t"
   ]
  },
  {
   "cell_type": "code",
   "execution_count": 8,
   "metadata": {},
   "outputs": [],
   "source": [
    "class deconv(nn.Module):\n",
    "    def __init__(self, in_f, out_f, s):\n",
    "        super(deconv, self).__init__()\n",
    "        self.in_f, self.out_f ,self.st= in_f,out_f ,s\n",
    "        self.deconv = nn.ConvTranspose2d(in_channels=self.in_f, out_channels=self.out_f, kernel_size=5, stride = self.st, padding=2, output_padding=1)\n",
    "        self.batchNorm = nn.BatchNorm2d(self.out_f)\n",
    "    \n",
    "    def forward(self,t):\n",
    "        t = self.deconv(t)\n",
    "        t = self.batchNorm(t)\n",
    "        t = F.relu(t)\n",
    "        return t"
   ]
  },
  {
   "cell_type": "code",
   "execution_count": 9,
   "metadata": {},
   "outputs": [
    {
     "name": "stdout",
     "output_type": "stream",
     "text": [
      "conv_block(\n",
      "  (conv): Conv2d(1, 3, kernel_size=(5, 5), stride=(2, 2), padding=(2, 2))\n",
      "  (batchNorm): BatchNorm2d(3, eps=1e-05, momentum=0.1, affine=True, track_running_stats=True)\n",
      ")\n"
     ]
    }
   ],
   "source": [
    "conv = conv_block(1, 3, 2)\n",
    "print(conv)"
   ]
  },
  {
   "cell_type": "code",
   "execution_count": 10,
   "metadata": {},
   "outputs": [
    {
     "name": "stdout",
     "output_type": "stream",
     "text": [
      "deconv(\n",
      "  (deconv): ConvTranspose2d(3, 2, kernel_size=(5, 5), stride=(1, 1), padding=(2, 2), output_padding=(1, 1))\n",
      "  (batchNorm): BatchNorm2d(2, eps=1e-05, momentum=0.1, affine=True, track_running_stats=True)\n",
      ")\n"
     ]
    }
   ],
   "source": [
    "deconva = deconv(3,2,1)\n",
    "print(deconva)"
   ]
  },
  {
   "cell_type": "code",
   "execution_count": 11,
   "metadata": {},
   "outputs": [],
   "source": [
    "# image network\n",
    "\n",
    "class generator(nn.Module):\n",
    "    def __init__(self, ll):\n",
    "        super(generator, self).__init__()\n",
    "        self.ll = ll\n",
    "        self.conv1 = conv_block(in_f=3, out_f= 64, s=2)\n",
    "        self.conv2 = conv_block(in_f = 64, out_f=128, s=2)\n",
    "        self.conv3 = conv_block(in_f = 128, out_f = 256, s=2)\n",
    "        self.fc1 = nn.Linear(in_features=256*8*8, out_features=1024)\n",
    "        self.fc2 = nn.Linear(in_features=1024, out_features=96)\n",
    "        self.fc3 = nn.Linear(in_features=128, out_features=4096)\n",
    "        self.deconv1 = deconv(256, 256, 2)\n",
    "        self.deconv2 = deconv(in_f=256, out_f=128, s=2)\n",
    "        self.deconv3 = deconv(in_f=128, out_f=64, s=2)\n",
    "        self.deconv4 = deconv(in_f=128, out_f=64, s=2)\n",
    "        self.out = conv_block(in_f=64, out_f=3, s=1)\n",
    "    def forward(self, t):\n",
    "        t = self.conv1(t)\n",
    "        skip_t = t\n",
    "        t = self.conv2(t)\n",
    "        t = self.conv3(t)\n",
    "        print(t.shape)\n",
    "        t = flatten(t)\n",
    "        t = self.fc1(t)\n",
    "        t = self.fc2(t)\n",
    "        t = torch.cat((t,self.ll), 0)\n",
    "        print(t.shape)\n",
    "        t =self.fc3(t)\n",
    "        t = t.reshape(1,256,4,4)\n",
    "        t = self.deconv1(t)\n",
    "        print(t.shape)\n",
    "        t = self.deconv2(t)\n",
    "        print(t.shape)\n",
    "        t = self.deconv3(t)\n",
    "        print(t.shape)\n",
    "        t = torch.cat((t,skip_t), 1)\n",
    "        print(t.shape)\n",
    "        t = self.deconv4(t)\n",
    "        print(t.shape)\n",
    "        t = self.out(t)\n",
    "        print(t.shape)\n",
    "        return t\n",
    "        \n",
    "        \n",
    "    "
   ]
  },
  {
   "cell_type": "code",
   "execution_count": 12,
   "metadata": {},
   "outputs": [
    {
     "data": {
      "text/plain": [
       "generator(\n",
       "  (conv1): conv_block(\n",
       "    (conv): Conv2d(3, 64, kernel_size=(5, 5), stride=(2, 2), padding=(2, 2))\n",
       "    (batchNorm): BatchNorm2d(64, eps=1e-05, momentum=0.1, affine=True, track_running_stats=True)\n",
       "  )\n",
       "  (conv2): conv_block(\n",
       "    (conv): Conv2d(64, 128, kernel_size=(5, 5), stride=(2, 2), padding=(2, 2))\n",
       "    (batchNorm): BatchNorm2d(128, eps=1e-05, momentum=0.1, affine=True, track_running_stats=True)\n",
       "  )\n",
       "  (conv3): conv_block(\n",
       "    (conv): Conv2d(128, 256, kernel_size=(5, 5), stride=(2, 2), padding=(2, 2))\n",
       "    (batchNorm): BatchNorm2d(256, eps=1e-05, momentum=0.1, affine=True, track_running_stats=True)\n",
       "  )\n",
       "  (fc1): Linear(in_features=16384, out_features=1024, bias=True)\n",
       "  (fc2): Linear(in_features=1024, out_features=96, bias=True)\n",
       "  (fc3): Linear(in_features=128, out_features=4096, bias=True)\n",
       "  (deconv1): deconv(\n",
       "    (deconv): ConvTranspose2d(256, 256, kernel_size=(5, 5), stride=(2, 2), padding=(2, 2), output_padding=(1, 1))\n",
       "    (batchNorm): BatchNorm2d(256, eps=1e-05, momentum=0.1, affine=True, track_running_stats=True)\n",
       "  )\n",
       "  (deconv2): deconv(\n",
       "    (deconv): ConvTranspose2d(256, 128, kernel_size=(5, 5), stride=(2, 2), padding=(2, 2), output_padding=(1, 1))\n",
       "    (batchNorm): BatchNorm2d(128, eps=1e-05, momentum=0.1, affine=True, track_running_stats=True)\n",
       "  )\n",
       "  (deconv3): deconv(\n",
       "    (deconv): ConvTranspose2d(128, 64, kernel_size=(5, 5), stride=(2, 2), padding=(2, 2), output_padding=(1, 1))\n",
       "    (batchNorm): BatchNorm2d(64, eps=1e-05, momentum=0.1, affine=True, track_running_stats=True)\n",
       "  )\n",
       "  (deconv4): deconv(\n",
       "    (deconv): ConvTranspose2d(128, 64, kernel_size=(5, 5), stride=(2, 2), padding=(2, 2), output_padding=(1, 1))\n",
       "    (batchNorm): BatchNorm2d(64, eps=1e-05, momentum=0.1, affine=True, track_running_stats=True)\n",
       "  )\n",
       "  (out): conv_block(\n",
       "    (conv): Conv2d(64, 3, kernel_size=(5, 5), stride=(1, 1), padding=(2, 2))\n",
       "    (batchNorm): BatchNorm2d(3, eps=1e-05, momentum=0.1, affine=True, track_running_stats=True)\n",
       "  )\n",
       ")"
      ]
     },
     "execution_count": 12,
     "metadata": {},
     "output_type": "execute_result"
    }
   ],
   "source": [
    "ll = torch.randn(32)\n",
    "gn = generator(ll)\n",
    "gn"
   ]
  },
  {
   "cell_type": "code",
   "execution_count": 13,
   "metadata": {},
   "outputs": [
    {
     "name": "stdout",
     "output_type": "stream",
     "text": [
      "torch.Size([1, 256, 8, 8])\n",
      "torch.Size([128])\n",
      "torch.Size([1, 256, 8, 8])\n",
      "torch.Size([1, 128, 16, 16])\n",
      "torch.Size([1, 64, 32, 32])\n",
      "torch.Size([1, 128, 32, 32])\n",
      "torch.Size([1, 64, 64, 64])\n",
      "torch.Size([1, 3, 64, 64])\n"
     ]
    },
    {
     "data": {
      "text/plain": [
       "torch.Size([1, 3, 64, 64])"
      ]
     },
     "execution_count": 13,
     "metadata": {},
     "output_type": "execute_result"
    }
   ],
   "source": [
    "r = torch.randn((1, 3, 64, 64))\n",
    "r = gn.forward(r)\n",
    "r.shape"
   ]
  },
  {
   "cell_type": "code",
   "execution_count": 14,
   "metadata": {},
   "outputs": [],
   "source": [
    "# discriminator\n",
    "class LayerNormConv2d(nn.Module):\n",
    "    def __init__(self, features, eps=1e-6):\n",
    "        super().__init__()\n",
    "        self.gamma = nn.Parameter(torch.ones(features)).unsqueeze(-1).unsqueeze(-1)\n",
    "        self.beta = nn.Parameter(torch.zeros(features)).unsqueeze(-1).unsqueeze(-1)\n",
    "        self.eps = eps\n",
    "        self.features = features\n",
    "\n",
    "    def _check_input_dim(self, input):\n",
    "        if input.size(1) != self.gamma.nelement():\n",
    "            raise ValueError('got {}-feature tensor, expected {}'\n",
    "                             .format(input.size(1), self.features))\n",
    "\n",
    "    def forward(self, x):\n",
    "        self._check_input_dim(x)\n",
    "        x_flat = x.transpose(1,-1).contiguous().view((-1, x.size(1)))\n",
    "        mean = x_flat.mean(0).unsqueeze(-1).unsqueeze(-1).expand_as(x)\n",
    "        std = x_flat.std(0).unsqueeze(-1).unsqueeze(-1).expand_as(x)\n",
    "        print(std.size())\n",
    "        return self.gamma.expand_as(x) * (x - mean) / (std + self.eps) + self.beta.expand_as(x)"
   ]
  },
  {
   "cell_type": "code",
   "execution_count": 15,
   "metadata": {},
   "outputs": [],
   "source": [
    "class disconv_block(nn.Module):\n",
    "    def __init__(self,in_f,out_f,s):\n",
    "        super(disconv_block, self).__init__()\n",
    "        self.in_f, self.out_f, self.st = in_f,out_f, s\n",
    "        self.conv = nn.Conv2d(in_channels=self.in_f, out_channels=self.out_f, kernel_size=5, stride = self.st, padding=2)\n",
    "        self.LayerNorm = LayerNormConv2d(self.out_f)\n",
    "        \n",
    "    def forward(self,t):\n",
    "        t = self.conv(t)\n",
    "        t = self.LayerNorm(t)\n",
    "        t = F.leaky_relu(t)\n",
    "        return t"
   ]
  },
  {
   "cell_type": "code",
   "execution_count": 16,
   "metadata": {},
   "outputs": [
    {
     "name": "stdout",
     "output_type": "stream",
     "text": [
      "torch.Size([1, 5, 16, 16])\n"
     ]
    },
    {
     "data": {
      "text/plain": [
       "torch.Size([1, 5, 16, 16])"
      ]
     },
     "execution_count": 16,
     "metadata": {},
     "output_type": "execute_result"
    }
   ],
   "source": [
    "z = disconv_block(3,5,2)\n",
    "c = torch.randn((1,3,32,32))\n",
    "c = z(c)\n",
    "c.shape"
   ]
  },
  {
   "cell_type": "code",
   "execution_count": 17,
   "metadata": {},
   "outputs": [],
   "source": [
    "class discriminator(nn.Module):\n",
    "    def __init__(self):\n",
    "        super(discriminator, self).__init__()\n",
    "        self.conv1 = disconv_block(in_f=3, out_f=64, s=2)\n",
    "        self.conv2 = disconv_block(in_f=64, out_f=128, s=2)\n",
    "        self.conv3 = disconv_block(in_f=128, out_f=256, s=2)\n",
    "        self.conv4 = disconv_block(in_f=256, out_f=512, s=2)\n",
    "        self.conv5 = disconv_block(in_f=512, out_f=1, s=2)\n",
    "        \n",
    "    def forward(self,t):\n",
    "        t = self.conv1(t)\n",
    "        t = self.conv2(t)\n",
    "        t = self.conv3(t)\n",
    "        t = self.conv4(t)\n",
    "        t = self.conv5(t)\n",
    "        return t"
   ]
  },
  {
   "cell_type": "code",
   "execution_count": 18,
   "metadata": {},
   "outputs": [
    {
     "data": {
      "text/plain": [
       "discriminator(\n",
       "  (conv1): disconv_block(\n",
       "    (conv): Conv2d(3, 64, kernel_size=(5, 5), stride=(2, 2), padding=(2, 2))\n",
       "    (LayerNorm): LayerNormConv2d()\n",
       "  )\n",
       "  (conv2): disconv_block(\n",
       "    (conv): Conv2d(64, 128, kernel_size=(5, 5), stride=(2, 2), padding=(2, 2))\n",
       "    (LayerNorm): LayerNormConv2d()\n",
       "  )\n",
       "  (conv3): disconv_block(\n",
       "    (conv): Conv2d(128, 256, kernel_size=(5, 5), stride=(2, 2), padding=(2, 2))\n",
       "    (LayerNorm): LayerNormConv2d()\n",
       "  )\n",
       "  (conv4): disconv_block(\n",
       "    (conv): Conv2d(256, 512, kernel_size=(5, 5), stride=(2, 2), padding=(2, 2))\n",
       "    (LayerNorm): LayerNormConv2d()\n",
       "  )\n",
       "  (conv5): disconv_block(\n",
       "    (conv): Conv2d(512, 1, kernel_size=(5, 5), stride=(2, 2), padding=(2, 2))\n",
       "    (LayerNorm): LayerNormConv2d()\n",
       "  )\n",
       ")"
      ]
     },
     "execution_count": 18,
     "metadata": {},
     "output_type": "execute_result"
    }
   ],
   "source": [
    "s = discriminator()\n",
    "s"
   ]
  },
  {
   "cell_type": "code",
   "execution_count": 19,
   "metadata": {},
   "outputs": [
    {
     "name": "stdout",
     "output_type": "stream",
     "text": [
      "torch.Size([1, 64, 32, 32])\n",
      "torch.Size([1, 128, 16, 16])\n",
      "torch.Size([1, 256, 8, 8])\n",
      "torch.Size([1, 512, 4, 4])\n",
      "torch.Size([1, 1, 2, 2])\n"
     ]
    },
    {
     "data": {
      "text/plain": [
       "torch.Size([1, 1, 2, 2])"
      ]
     },
     "execution_count": 19,
     "metadata": {},
     "output_type": "execute_result"
    }
   ],
   "source": [
    "x = torch.randn((1,3,64,64))\n",
    "x = s(x)\n",
    "x.shape"
   ]
  },
  {
   "cell_type": "code",
   "execution_count": null,
   "metadata": {},
   "outputs": [],
   "source": []
  },
  {
   "cell_type": "code",
   "execution_count": null,
   "metadata": {},
   "outputs": [],
   "source": []
  },
  {
   "cell_type": "markdown",
   "metadata": {},
   "source": [
    "# Data Preprocessing"
   ]
  },
  {
   "cell_type": "code",
   "execution_count": 28,
   "metadata": {},
   "outputs": [],
   "source": [
    "images = []\n",
    "folder = \"cohn-kanade-images/\"\n",
    "for person in os.listdir(folder):\n",
    "    direc = os.path.join(folder,person)\n",
    "    for exp in os.listdir(direc):\n",
    "        dire = os.path.join(direc, exp)\n",
    "        if(os.path.isdir(dire)):\n",
    "            for emo in os.listdir(dire):\n",
    "                img = cv2.imread(os.path.join(dire,emo))\n",
    "            images.append(img)"
   ]
  },
  {
   "cell_type": "code",
   "execution_count": 29,
   "metadata": {},
   "outputs": [
    {
     "data": {
      "text/plain": [
       "593"
      ]
     },
     "execution_count": 29,
     "metadata": {},
     "output_type": "execute_result"
    }
   ],
   "source": [
    "len(images)"
   ]
  },
  {
   "cell_type": "code",
   "execution_count": 30,
   "metadata": {},
   "outputs": [
    {
     "data": {
      "text/plain": [
       "(490, 640, 3)"
      ]
     },
     "execution_count": 30,
     "metadata": {},
     "output_type": "execute_result"
    }
   ],
   "source": [
    "images[0].shape"
   ]
  },
  {
   "cell_type": "code",
   "execution_count": null,
   "metadata": {},
   "outputs": [],
   "source": []
  },
  {
   "cell_type": "markdown",
   "metadata": {},
   "source": [
    "# Losses"
   ]
  },
  {
   "cell_type": "code",
   "execution_count": null,
   "metadata": {},
   "outputs": [],
   "source": []
  },
  {
   "cell_type": "code",
   "execution_count": null,
   "metadata": {},
   "outputs": [],
   "source": []
  },
  {
   "cell_type": "code",
   "execution_count": null,
   "metadata": {},
   "outputs": [],
   "source": []
  },
  {
   "cell_type": "markdown",
   "metadata": {},
   "source": [
    "## Code Checking and Rough work"
   ]
  },
  {
   "cell_type": "code",
   "execution_count": null,
   "metadata": {},
   "outputs": [],
   "source": [
    "x = nn.ConvTranspose2d(in_channels=2, out_channels=4, kernel_size=4, stride=2 )\n",
    "y = torch.randn((1, 2, 4, 3))\n",
    "b = nn.BatchNorm2d(4)\n",
    "y = x(y)\n",
    "y = b(y)"
   ]
  },
  {
   "cell_type": "code",
   "execution_count": null,
   "metadata": {},
   "outputs": [],
   "source": [
    "print(y.shape)"
   ]
  },
  {
   "cell_type": "code",
   "execution_count": null,
   "metadata": {},
   "outputs": [],
   "source": [
    "z = nn.Linear(100, 400)\n",
    "y = torch.randn((1, 256, 4, 4))\n",
    "decon = deconv(256, 256, 2)\n",
    "y = decon(y)\n",
    "print(y.shape)"
   ]
  },
  {
   "cell_type": "code",
   "execution_count": null,
   "metadata": {},
   "outputs": [],
   "source": [
    "b = torch.randn(10)\n",
    "c = nn.BatchNorm1d(10)\n",
    "b = c(b)"
   ]
  },
  {
   "cell_type": "code",
   "execution_count": null,
   "metadata": {},
   "outputs": [],
   "source": [
    "v = torch.tensor([[10,11,12]] , dtype = torch.float32)\n",
    "b = nn.BatchNorm1d(1)\n",
    "v = b(v)"
   ]
  },
  {
   "cell_type": "code",
   "execution_count": null,
   "metadata": {},
   "outputs": [],
   "source": [
    "z = nn.Conv2d(in_channels=3, out_channels=10, stride=1, kernel_size=5, padding=2)\n",
    "x = torch.randn((1,3,64,64))\n",
    "x = z(x)"
   ]
  },
  {
   "cell_type": "code",
   "execution_count": null,
   "metadata": {},
   "outputs": [],
   "source": [
    "x.shape"
   ]
  },
  {
   "cell_type": "code",
   "execution_count": null,
   "metadata": {},
   "outputs": [],
   "source": [
    "x =z(x)\n",
    "x.shape"
   ]
  },
  {
   "cell_type": "code",
   "execution_count": null,
   "metadata": {},
   "outputs": [],
   "source": [
    "x =z(x)\n",
    "x.shape"
   ]
  },
  {
   "cell_type": "code",
   "execution_count": null,
   "metadata": {},
   "outputs": [],
   "source": [
    "t = torch.randn(4096)\n",
    "t = t.reshape(1,256,4,4)"
   ]
  },
  {
   "cell_type": "code",
   "execution_count": null,
   "metadata": {},
   "outputs": [],
   "source": [
    "t.shape"
   ]
  },
  {
   "cell_type": "code",
   "execution_count": null,
   "metadata": {},
   "outputs": [],
   "source": [
    "z = nn.ConvTranspose2d(in_channels=256 ,out_channels=256, kernel_size=5, stride = 2, output_size=[1,256,8,8])\n",
    "x = torch.randn((1,256,4,4)\n"
   ]
  },
  {
   "cell_type": "code",
   "execution_count": null,
   "metadata": {},
   "outputs": [],
   "source": [
    "z = nn.ConvTranspose2d(in_channels=256 ,out_channels=256, kernel_size=5, stride = 2, padding=2, output_padding=1)\n",
    "x = torch.randn((1,256,4,4))\n",
    "x = z(x)\n",
    "x.shape"
   ]
  },
  {
   "cell_type": "code",
   "execution_count": null,
   "metadata": {},
   "outputs": [],
   "source": [
    "b = torch.randn(1,10,4,4)\n",
    "a = torch.randn(1, 20, 4,4 )\n",
    "t = torch.cat((a,b), 1)"
   ]
  },
  {
   "cell_type": "code",
   "execution_count": null,
   "metadata": {},
   "outputs": [],
   "source": [
    "t.shape"
   ]
  },
  {
   "cell_type": "code",
   "execution_count": null,
   "metadata": {},
   "outputs": [],
   "source": [
    "t = nn.LayerNorm(4)\n",
    "x = torch.randn((1,4,16,4))\n",
    "x = t(x)"
   ]
  },
  {
   "cell_type": "code",
   "execution_count": null,
   "metadata": {},
   "outputs": [],
   "source": []
  }
 ],
 "metadata": {
  "kernelspec": {
   "display_name": "Python 3",
   "language": "python",
   "name": "python3"
  },
  "language_info": {
   "codemirror_mode": {
    "name": "ipython",
    "version": 3
   },
   "file_extension": ".py",
   "mimetype": "text/x-python",
   "name": "python",
   "nbconvert_exporter": "python",
   "pygments_lexer": "ipython3",
   "version": "3.7.6"
  }
 },
 "nbformat": 4,
 "nbformat_minor": 2
}
